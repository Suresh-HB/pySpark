{
 "cells": [
  {
   "cell_type": "markdown",
   "metadata": {},
   "source": [
    "@Author: Suresh <br>\n",
    "@Date: 2024-09-04 <br>\n",
    "@Last Modified by: Suresh <br>\n",
    "@Last Modified: 2024-09-04 <br>\n",
    "@Title : To find out the countries and continents with the highest death counts<br>"
   ]
  },
  {
   "cell_type": "code",
   "execution_count": 1,
   "metadata": {},
   "outputs": [
    {
     "name": "stdout",
     "output_type": "stream",
     "text": [
      "root\n",
      " |-- Sno: integer (nullable = true)\n",
      " |-- Date: date (nullable = true)\n",
      " |-- Time: string (nullable = true)\n",
      " |-- State/UnionTerritory: string (nullable = true)\n",
      " |-- ConfirmedIndianNational: string (nullable = true)\n",
      " |-- ConfirmedForeignNational: string (nullable = true)\n",
      " |-- Cured: integer (nullable = true)\n",
      " |-- Deaths: integer (nullable = true)\n",
      " |-- Confirmed: integer (nullable = true)\n",
      "\n",
      "+--------------------+----------------------+\n",
      "|State/UnionTerritory|Country_highest_Deaths|\n",
      "+--------------------+----------------------+\n",
      "|         Maharashtra|              23737432|\n",
      "|           Karnataka|               6053762|\n",
      "|          Tamil Nadu|               5916658|\n",
      "|               Delhi|               4943294|\n",
      "|       Uttar Pradesh|               4143450|\n",
      "|         West Bengal|               3846989|\n",
      "|      Andhra Pradesh|               2939367|\n",
      "|              Punjab|               2785594|\n",
      "|             Gujarat|               2219448|\n",
      "|        Chhattisgarh|               2063920|\n",
      "|              Kerala|               1888177|\n",
      "|      Madhya Pradesh|               1777752|\n",
      "|             Haryana|               1502799|\n",
      "|           Rajasthan|               1473089|\n",
      "|               Bihar|               1093466|\n",
      "|         Uttarakhand|                986001|\n",
      "|   Jammu and Kashmir|                839694|\n",
      "|              Odisha|                790814|\n",
      "|           Jharkhand|                748641|\n",
      "|               Assam|                638323|\n",
      "+--------------------+----------------------+\n",
      "only showing top 20 rows\n",
      "\n"
     ]
    }
   ],
   "source": [
    "from pyspark.sql import SparkSession\n",
    "from pyspark.sql.functions import sum, col\n",
    "\n",
    "spark = SparkSession.builder.appName(\"Covid19Analysis\").getOrCreate()\n",
    "\n",
    "file = r\"file:///E:\\microsoft-SQL\\Covid Problem (1)\\Covid Problem\\covid_19_india.csv\"\n",
    "df = spark.read.csv(file, header=True, inferSchema=True)\n",
    "\n",
    "df.printSchema()\n",
    "\n",
    "result_df = (df.groupBy(\"State/UnionTerritory\")  # Use State/UnionTerritory if it represents regions\n",
    "             .agg(sum(\"Deaths\").alias(\"Country_highest_Deaths\"))  # Sum Deaths and alias the column\n",
    "             .orderBy(col(\"Country_highest_Deaths\").desc()))  # Order by the sum in descending order\n",
    "\n",
    "result_df.show()\n"
   ]
  }
 ],
 "metadata": {
  "kernelspec": {
   "display_name": "Python 3",
   "language": "python",
   "name": "python3"
  },
  "language_info": {
   "codemirror_mode": {
    "name": "ipython",
    "version": 3
   },
   "file_extension": ".py",
   "mimetype": "text/x-python",
   "name": "python",
   "nbconvert_exporter": "python",
   "pygments_lexer": "ipython3",
   "version": "3.11.9"
  }
 },
 "nbformat": 4,
 "nbformat_minor": 2
}
