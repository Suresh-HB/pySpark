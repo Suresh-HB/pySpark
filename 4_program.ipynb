{
 "cells": [
  {
   "cell_type": "markdown",
   "metadata": {},
   "source": [
    "@Author: Suresh <br>\n",
    "@Date: 2024-09-04 <br>\n",
    "@Last Modified by: Suresh <br>\n",
    "@Last Modified: 2024-09-04 <br>\n",
    "@Title : To find out the countries and continents with the highest death counts<br>"
   ]
  },
  {
   "cell_type": "code",
   "execution_count": 3,
   "metadata": {},
   "outputs": [
    {
     "name": "stdout",
     "output_type": "stream",
     "text": [
      "+--------------------+----------------------+\n",
      "|State_UnionTerritory|Country_highest_Deaths|\n",
      "+--------------------+----------------------+\n",
      "|                NULL|              41984417|\n",
      "|               Hubei|                651932|\n",
      "|              Quebec|                434065|\n",
      "|             Ontario|                226791|\n",
      "|    British Columbia|                 16752|\n",
      "|             Alberta|                 14245|\n",
      "|         Nova Scotia|                  5394|\n",
      "|     New South Wales|                  5055|\n",
      "|     Channel Islands|                  4579|\n",
      "|               Henan|                  3628|\n",
      "|            Victoria|                  2526|\n",
      "|             Mayotte|                  2403|\n",
      "|         Isle of Man|                  2323|\n",
      "|        Heilongjiang|                  2196|\n",
      "|        Sint Maarten|                  1566|\n",
      "|          Martinique|                  1530|\n",
      "|          Guadeloupe|                  1495|\n",
      "|             Beijing|                  1383|\n",
      "|            Tasmania|                  1328|\n",
      "|           Guangdong|                  1273|\n",
      "+--------------------+----------------------+\n",
      "only showing top 20 rows\n",
      "\n"
     ]
    }
   ],
   "source": [
    "from pyspark.sql import SparkSession\n",
    "\n",
    "spark = SparkSession.builder.appName(\"Covid19Analysis\").getOrCreate()\n",
    "\n",
    "\n",
    "file_path = r\"file:///E:\\microsoft-SQL\\covid-kaggle-dataset\\covid_19_clean_complete.csv\"\n",
    "df = spark.read.csv(file_path, header=True, inferSchema=True)\n",
    "\n",
    "df = df.withColumnRenamed(\"Province/State\", \"State_UnionTerritory\")\n",
    "\n",
    "df.createOrReplaceTempView(\"covid19india\")\n",
    "\n",
    "result_df = spark.sql(\"\"\"\n",
    "    SELECT State_UnionTerritory, SUM(Deaths) AS Country_highest_Deaths \n",
    "    FROM covid19india \n",
    "    GROUP BY State_UnionTerritory \n",
    "    ORDER BY Country_highest_Deaths DESC\n",
    "\"\"\")\n",
    "\n",
    "result_df.show()\n"
   ]
  }
 ],
 "metadata": {
  "kernelspec": {
   "display_name": "Python 3",
   "language": "python",
   "name": "python3"
  },
  "language_info": {
   "codemirror_mode": {
    "name": "ipython",
    "version": 3
   },
   "file_extension": ".py",
   "mimetype": "text/x-python",
   "name": "python",
   "nbconvert_exporter": "python",
   "pygments_lexer": "ipython3",
   "version": "3.11.9"
  }
 },
 "nbformat": 4,
 "nbformat_minor": 2
}
