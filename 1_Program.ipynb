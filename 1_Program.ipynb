{
 "cells": [
  {
   "cell_type": "markdown",
   "metadata": {},
   "source": [
    "@Author: Suresh <br>\n",
    "@Date: 2024-09-04 <br>\n",
    "@Last Modified by: Suresh <br>\n",
    "@Last Modified: 2024-09-04 <br>\n",
    "@Title : To find out the death percentage locally and globally <br>"
   ]
  },
  {
   "cell_type": "markdown",
   "metadata": {},
   "source": [
    "                                        DEATH PERCENTAGE GLOBALLY"
   ]
  },
  {
   "cell_type": "code",
   "execution_count": 1,
   "metadata": {},
   "outputs": [
    {
     "name": "stdout",
     "output_type": "stream",
     "text": [
      "root\n",
      " |-- Province/State: string (nullable = true)\n",
      " |-- Country/Region: string (nullable = true)\n",
      " |-- Lat: double (nullable = true)\n",
      " |-- Long: double (nullable = true)\n",
      " |-- Date: date (nullable = true)\n",
      " |-- Confirmed: integer (nullable = true)\n",
      " |-- Deaths: integer (nullable = true)\n",
      " |-- Recovered: integer (nullable = true)\n",
      " |-- Active: integer (nullable = true)\n",
      " |-- WHO Region: string (nullable = true)\n",
      "\n",
      "+--------------+---------------+------------+-------------------------+\n",
      "|Country/Region|Total_Confirmed|Total_Deaths|Death_percentage_globally|\n",
      "+--------------+---------------+------------+-------------------------+\n",
      "|          Chad|          64226|        5523|                      8.6|\n",
      "|      Paraguay|         156373|        1663|                     1.06|\n",
      "|        Russia|       45408411|      619385|                     1.36|\n",
      "|         Yemen|          67180|       17707|                    26.36|\n",
      "|       Senegal|         467457|        7177|                     1.54|\n",
      "|    Cabo Verde|          82732|         854|                     1.03|\n",
      "|        Sweden|        4973160|      448913|                     9.03|\n",
      "|        Guyana|          19089|        1346|                     7.05|\n",
      "|       Eritrea|          11786|           0|                      0.0|\n",
      "|   Philippines|        2972611|      110892|                     3.73|\n",
      "|         Burma|          25188|         639|                     2.54|\n",
      "|      Djibouti|         336216|        3011|                      0.9|\n",
      "|      Malaysia|         876874|       12971|                     1.48|\n",
      "|     Singapore|        3502472|        2441|                     0.07|\n",
      "|          Fiji|           2266|           0|                      0.0|\n",
      "|        Turkey|       17903345|      466056|                      2.6|\n",
      "|        Malawi|          89666|        1640|                     1.83|\n",
      "|Western Sahara|            901|          63|                     6.99|\n",
      "|          Iraq|        3093628|      121392|                     3.92|\n",
      "|       Germany|       21059152|      871322|                     4.14|\n",
      "+--------------+---------------+------------+-------------------------+\n",
      "only showing top 20 rows\n",
      "\n"
     ]
    }
   ],
   "source": [
    "from pyspark.sql import SparkSession\n",
    "from pyspark.sql.functions import col, sum, round\n",
    "\n",
    "spark = SparkSession.builder.appName(\"Covid19Analysis\").getOrCreate()\n",
    "\n",
    "file_path = r\"file:///E:\\microsoft-SQL\\covid-kaggle-dataset\\covid_19_clean_complete.csv\"\n",
    "df = spark.read.csv(file_path, header=True, inferSchema=True)\n",
    "\n",
    "\n",
    "result_df = (\n",
    "    df.groupBy(\"Country/Region\")\n",
    "    .agg(\n",
    "        sum(col(\"Confirmed\").cast(\"int\")).alias(\"Total_Confirmed\"),\n",
    "        sum(col(\"Deaths\").cast(\"int\")).alias(\"Total_Deaths\"),\n",
    "        round(\n",
    "            (sum(col(\"Deaths\").cast(\"int\")) * 100.0) / sum(col(\"Confirmed\").cast(\"int\")),\n",
    "            2\n",
    "        ).alias(\"Death_percentage_globally\")\n",
    "    )\n",
    ")\n",
    "df.printSchema()\n",
    "result_df.show()"
   ]
  },
  {
   "cell_type": "markdown",
   "metadata": {},
   "source": [
    "                                            DEATH PERCENTAGE LOCALLY"
   ]
  },
  {
   "cell_type": "code",
   "execution_count": 2,
   "metadata": {},
   "outputs": [
    {
     "name": "stdout",
     "output_type": "stream",
     "text": [
      "root\n",
      " |-- Sno: integer (nullable = true)\n",
      " |-- Date: date (nullable = true)\n",
      " |-- Time: string (nullable = true)\n",
      " |-- State/UnionTerritory: string (nullable = true)\n",
      " |-- ConfirmedIndianNational: string (nullable = true)\n",
      " |-- ConfirmedForeignNational: string (nullable = true)\n",
      " |-- Cured: integer (nullable = true)\n",
      " |-- Deaths: integer (nullable = true)\n",
      " |-- Confirmed: integer (nullable = true)\n",
      "\n",
      "+--------------------+---------------+------------+-----------------------+\n",
      "|State/UnionTerritory|Total_Confirmed|Total_Deaths|Death_percentageLocally|\n",
      "+--------------------+---------------+------------+-----------------------+\n",
      "|            Nagaland|        5041742|       58460|                   1.16|\n",
      "|           Karnataka|      485970693|     6053762|                   1.25|\n",
      "|              Odisha|      160130533|      790814|                   0.49|\n",
      "|              Kerala|      458906023|     1888177|                   0.41|\n",
      "|              Ladakh|        4054293|       45804|                   1.13|\n",
      "|Dadra and Nagar H...|        1938632|        1014|                   0.05|\n",
      "|          Tamil Nadu|      431928644|     5916658|                   1.37|\n",
      "|           Telengana|       69990668|      400427|                   0.57|\n",
      "|        Chhattisgarh|      163776262|     2063920|                   1.26|\n",
      "|      Maharashtra***|        6229596|      130753|                    2.1|\n",
      "|      Andhra Pradesh|      392432753|     2939367|                   0.75|\n",
      "|         Lakshadweep|         915784|        3908|                   0.43|\n",
      "|      Madhya Pradesh|      135625265|     1777752|                   1.31|\n",
      "|              Punjab|       99949702|     2785594|                   2.79|\n",
      "|             Manipur|       12617943|      173056|                   1.37|\n",
      "|         Daman & Diu|              2|           0|                    0.0|\n",
      "|Cases being reass...|         345565|           0|                    0.0|\n",
      "|                 Goa|       28240159|      447801|                   1.59|\n",
      "|             Mizoram|        2984732|        9791|                   0.33|\n",
      "|           Bihar****|        1430909|       18881|                   1.32|\n",
      "+--------------------+---------------+------------+-----------------------+\n",
      "only showing top 20 rows\n",
      "\n"
     ]
    }
   ],
   "source": [
    "from pyspark.sql import SparkSession\n",
    "from pyspark.sql.functions import col, sum, round\n",
    "\n",
    "spark = SparkSession.builder.appName(\"Covid19IndiaAnalysis\").getOrCreate()\n",
    "\n",
    "file_path_india = r\"file:///E:\\microsoft-SQL\\Covid Problem (1)\\Covid Problem\\covid_19_india.csv\"\n",
    "df = spark.read.csv(file_path_india, header=True, inferSchema=True)\n",
    "\n",
    "\n",
    "result_df_india = (\n",
    "    df.groupBy(\"State/UnionTerritory\")\n",
    "    .agg(\n",
    "        sum(col(\"Confirmed\").cast(\"int\")).alias(\"Total_Confirmed\"),\n",
    "        sum(col(\"Deaths\").cast(\"int\")).alias(\"Total_Deaths\"),\n",
    "        round(\n",
    "            (sum(col(\"Deaths\").cast(\"int\")) * 100.0) / sum(col(\"Confirmed\").cast(\"int\")),\n",
    "            2\n",
    "        ).alias(\"Death_percentageLocally\")\n",
    "    )\n",
    ")\n",
    "\n",
    "df.printSchema()\n",
    "result_df_india.show()\n",
    "\n",
    "\n",
    "\n",
    "\n",
    "\n"
   ]
  }
 ],
 "metadata": {
  "kernelspec": {
   "display_name": "Python 3",
   "language": "python",
   "name": "python3"
  },
  "language_info": {
   "codemirror_mode": {
    "name": "ipython",
    "version": 3
   },
   "file_extension": ".py",
   "mimetype": "text/x-python",
   "name": "python",
   "nbconvert_exporter": "python",
   "pygments_lexer": "ipython3",
   "version": "3.11.9"
  }
 },
 "nbformat": 4,
 "nbformat_minor": 2
}
