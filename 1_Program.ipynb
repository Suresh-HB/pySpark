{
 "cells": [
  {
   "cell_type": "markdown",
   "metadata": {},
   "source": [
    "@Author: Suresh <br>\n",
    "@Date: 2024-09-04 <br>\n",
    "@Last Modified by: Suresh <br>\n",
    "@Last Modified: 2024-09-04 <br>\n",
    "@Title : To find out the death percentage locally and globally <br>"
   ]
  },
  {
   "cell_type": "markdown",
   "metadata": {},
   "source": [
    "                                        DEATH PERCENTAGE GLOBALLY"
   ]
  },
  {
   "cell_type": "code",
   "execution_count": 20,
   "metadata": {},
   "outputs": [
    {
     "name": "stdout",
     "output_type": "stream",
     "text": [
      "+--------------+---------------+------------+-------------------------+\n",
      "|Country_Region|Total_Confirmed|Total_Deaths|Death_percentage_globally|\n",
      "+--------------+---------------+------------+-------------------------+\n",
      "|          Chad|          64226|        5523|                     8.60|\n",
      "|      Paraguay|         156373|        1663|                     1.06|\n",
      "|        Russia|       45408411|      619385|                     1.36|\n",
      "|         Yemen|          67180|       17707|                    26.36|\n",
      "|       Senegal|         467457|        7177|                     1.54|\n",
      "|    Cabo Verde|          82732|         854|                     1.03|\n",
      "|        Sweden|        4973160|      448913|                     9.03|\n",
      "|        Guyana|          19089|        1346|                     7.05|\n",
      "|       Eritrea|          11786|           0|                     0.00|\n",
      "|   Philippines|        2972611|      110892|                     3.73|\n",
      "|         Burma|          25188|         639|                     2.54|\n",
      "|      Djibouti|         336216|        3011|                     0.90|\n",
      "|      Malaysia|         876874|       12971|                     1.48|\n",
      "|     Singapore|        3502472|        2441|                     0.07|\n",
      "|          Fiji|           2266|           0|                     0.00|\n",
      "|        Turkey|       17903345|      466056|                     2.60|\n",
      "|        Malawi|          89666|        1640|                     1.83|\n",
      "|Western Sahara|            901|          63|                     6.99|\n",
      "|          Iraq|        3093628|      121392|                     3.92|\n",
      "|       Germany|       21059152|      871322|                     4.14|\n",
      "+--------------+---------------+------------+-------------------------+\n",
      "only showing top 20 rows\n",
      "\n"
     ]
    }
   ],
   "source": [
    "from pyspark.sql import SparkSession\n",
    "\n",
    "spark = SparkSession.builder.appName(\"Covid19Analysis\").getOrCreate()\n",
    "\n",
    "file_path = r\"file:///E:\\microsoft-SQL\\covid-kaggle-dataset\\covid_19_clean_complete.csv\"\n",
    "df = spark.read.csv(file_path, header=True, inferSchema=True)\n",
    "\n",
    "\n",
    "df = df.withColumnRenamed(\"Country/Region\", \"Country_Region\")\n",
    "\n",
    "df.createOrReplaceTempView(\"data_table\")\n",
    "\n",
    "filtered_df = spark.sql(\"\"\"\n",
    "SELECT Country_Region,\n",
    "       SUM(CAST(Confirmed AS INT)) AS Total_Confirmed,\n",
    "       SUM(CAST(Deaths AS INT)) AS Total_Deaths,\n",
    "       ROUND((SUM(CAST(Deaths AS INT)) * 100.0) / SUM(CAST(Confirmed AS INT)), 2) AS Death_percentage_globally\n",
    "FROM data_table\n",
    "GROUP BY Country_Region\n",
    "\"\"\")\n",
    "\n",
    "\n",
    "filtered_df.show()\n",
    "spark.stop()\n",
    "\n"
   ]
  },
  {
   "cell_type": "markdown",
   "metadata": {},
   "source": [
    "                                            DEATH PERCENTAGE LOCALLY"
   ]
  },
  {
   "cell_type": "code",
   "execution_count": 15,
   "metadata": {},
   "outputs": [
    {
     "name": "stdout",
     "output_type": "stream",
     "text": [
      "+--------------------+---------------+------------+-----------------------+\n",
      "|State_UnionTerritory|Total_Confirmed|Total_Deaths|Death_percentageLocally|\n",
      "+--------------------+---------------+------------+-----------------------+\n",
      "|            Nagaland|        5041742|       58460|       1.15951986436434|\n",
      "|           Karnataka|      485970693|     6053762|       1.24570516024924|\n",
      "|              Odisha|      160130533|      790814|       0.49385584696705|\n",
      "|              Kerala|      458906023|     1888177|       0.41145177996498|\n",
      "|              Ladakh|        4054293|       45804|       1.12976541162664|\n",
      "|Dadra and Nagar H...|        1938632|        1014|       0.05230492429713|\n",
      "|          Tamil Nadu|      431928644|     5916658|       1.36982302104512|\n",
      "|           Telengana|       69990668|      400427|       0.57211484251015|\n",
      "|        Chhattisgarh|      163776262|     2063920|       1.26020705003024|\n",
      "|      Maharashtra***|        6229596|      130753|       2.09890015339679|\n",
      "|      Andhra Pradesh|      392432753|     2939367|       0.74901164021852|\n",
      "|         Lakshadweep|         915784|        3908|       0.42673818280293|\n",
      "|      Madhya Pradesh|      135625265|     1777752|       1.31078232363269|\n",
      "|              Punjab|       99949702|     2785594|       2.78699580314907|\n",
      "|             Manipur|       12617943|      173056|       1.37150722586082|\n",
      "|         Daman & Diu|              2|           0|       0.00000000000000|\n",
      "|Cases being reass...|         345565|           0|       0.00000000000000|\n",
      "|                 Goa|       28240159|      447801|       1.58568866414669|\n",
      "|             Mizoram|        2984732|        9791|       0.32803615198953|\n",
      "|           Bihar****|        1430909|       18881|       1.31951088433995|\n",
      "+--------------------+---------------+------------+-----------------------+\n",
      "only showing top 20 rows\n",
      "\n"
     ]
    }
   ],
   "source": [
    "from pyspark.sql import SparkSession\n",
    "from pyspark.sql.functions import col, sum, round\n",
    "\n",
    "spark = SparkSession.builder.appName(\"Covid19IndiaAnalysis\").getOrCreate()\n",
    "\n",
    "file_path_india = r\"file:///E:\\microsoft-SQL\\Covid Problem (1)\\Covid Problem\\covid_19_india.csv\"\n",
    "df = spark.read.csv(file_path_india, header=True, inferSchema=True)\n",
    "\n",
    "\n",
    "df.createOrReplaceTempView(\"data_table\")\n",
    "\n",
    "filtered_df = spark.sql(\"\"\"\n",
    "    SELECT `State/UnionTerritory` AS State_UnionTerritory,\n",
    "           SUM(CAST(Confirmed AS INT)) AS Total_Confirmed,\n",
    "           SUM(CAST(Deaths AS INT)) AS Total_Deaths,\n",
    "           (SUM(CAST(Deaths AS INT)) * 100.0) / SUM(CAST(Confirmed AS INT)) AS Death_percentageLocally\n",
    "    FROM data_table\n",
    "    GROUP BY `State/UnionTerritory`\n",
    "\"\"\")\n",
    "\n",
    "filtered_df.show()\n",
    "spark.stop()"
   ]
  }
 ],
 "metadata": {
  "kernelspec": {
   "display_name": "Python 3",
   "language": "python",
   "name": "python3"
  },
  "language_info": {
   "codemirror_mode": {
    "name": "ipython",
    "version": 3
   },
   "file_extension": ".py",
   "mimetype": "text/x-python",
   "name": "python",
   "nbconvert_exporter": "python",
   "pygments_lexer": "ipython3",
   "version": "3.11.9"
  }
 },
 "nbformat": 4,
 "nbformat_minor": 2
}
