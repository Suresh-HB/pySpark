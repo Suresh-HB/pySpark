{
 "cells": [
  {
   "cell_type": "markdown",
   "metadata": {},
   "source": [
    "@Author: Suresh <br>\n",
    "@Date: 2024-09-04 <br>\n",
    "@Last Modified by: Suresh <br>\n",
    "@Last Modified: 2024-09-04 <br>\n",
    "@Title :Average of cases divided by the number of population of each country\n",
    "(TOP 10) <br>"
   ]
  },
  {
   "cell_type": "markdown",
   "metadata": {},
   "source": [
    "                   Average of cases divided by the number of population of each country"
   ]
  },
  {
   "cell_type": "code",
   "execution_count": 4,
   "metadata": {},
   "outputs": [
    {
     "name": "stdout",
     "output_type": "stream",
     "text": [
      "root\n",
      " |-- Country/Region: string (nullable = true)\n",
      " |-- Continent: string (nullable = true)\n",
      " |-- Population: integer (nullable = true)\n",
      " |-- TotalCases: integer (nullable = true)\n",
      " |-- NewCases: integer (nullable = true)\n",
      " |-- TotalDeaths: integer (nullable = true)\n",
      " |-- NewDeaths: integer (nullable = true)\n",
      " |-- TotalRecovered: integer (nullable = true)\n",
      " |-- NewRecovered: integer (nullable = true)\n",
      " |-- ActiveCases: integer (nullable = true)\n",
      " |-- Serious,Critical: integer (nullable = true)\n",
      " |-- Tot Cases/1M pop: integer (nullable = true)\n",
      " |-- Deaths/1M pop: double (nullable = true)\n",
      " |-- TotalTests: integer (nullable = true)\n",
      " |-- Tests/1M pop: integer (nullable = true)\n",
      " |-- WHO Region: string (nullable = true)\n",
      "\n",
      "+--------------+------------------------+\n",
      "|Country/Region|Avg_Cases_Per_Population|\n",
      "+--------------+------------------------+\n",
      "|         Qatar|    0.039921575750452756|\n",
      "| French Guiana|    0.027145648579588157|\n",
      "|       Bahrain|     0.02513023907975126|\n",
      "|    San Marino|    0.020596381637102954|\n",
      "|         Chile|    0.019164810228284687|\n",
      "|        Panama|     0.01652703989232825|\n",
      "|        Kuwait|    0.016378443167538764|\n",
      "|          Oman|    0.015769043963734304|\n",
      "|           USA|    0.015193862960518527|\n",
      "|  Vatican City|      0.0149812734082397|\n",
      "+--------------+------------------------+\n",
      "only showing top 10 rows\n",
      "\n"
     ]
    }
   ],
   "source": [
    "from pyspark.sql import SparkSession\n",
    "from pyspark.sql.functions import col, avg\n",
    "\n",
    "spark = SparkSession.builder.appName(\"Covid19Analysis\").getOrCreate()\n",
    "\n",
    "file_path = \"file:///E:/microsoft-SQL/covid-kaggle-dataset/worldometer_data.csv\"\n",
    "\n",
    "df = spark.read.csv(file_path, header=True, inferSchema=True)\n",
    "\n",
    "df.printSchema()\n",
    "\n",
    "df_with_cases_per_population = df.withColumn(\n",
    "    \"Cases_Per_Population\", \n",
    "    col(\"TotalCases\") * 1.0 / col(\"Population\")\n",
    ")\n",
    "\n",
    "avg_cases_per_population_df = (df_with_cases_per_population.groupBy(\"Country/Region\")\n",
    "                                .agg(avg(\"Cases_Per_Population\").alias(\"Avg_Cases_Per_Population\"))\n",
    "                                .orderBy(col(\"Avg_Cases_Per_Population\").desc()))\n",
    "\n",
    "avg_cases_per_population_df.show(10)\n",
    "\n",
    "spark.stop()\n"
   ]
  }
 ],
 "metadata": {
  "kernelspec": {
   "display_name": "Python 3",
   "language": "python",
   "name": "python3"
  },
  "language_info": {
   "codemirror_mode": {
    "name": "ipython",
    "version": 3
   },
   "file_extension": ".py",
   "mimetype": "text/x-python",
   "name": "python",
   "nbconvert_exporter": "python",
   "pygments_lexer": "ipython3",
   "version": "3.11.9"
  }
 },
 "nbformat": 4,
 "nbformat_minor": 2
}
