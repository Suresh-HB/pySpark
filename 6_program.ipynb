{
 "cells": [
  {
   "cell_type": "markdown",
   "metadata": {},
   "source": [
    "@Author: Suresh <br>\n",
    "@Date: 2024-09-04 <br>\n",
    "@Last Modified by: Suresh <br>\n",
    "@Last Modified: 2024-09-04 <br>\n",
    "@Title :Average of cases divided by the number of population of each country\n",
    "(TOP 10) <br>"
   ]
  },
  {
   "cell_type": "markdown",
   "metadata": {},
   "source": [
    "                   Average of cases divided by the number of population of each country"
   ]
  },
  {
   "cell_type": "code",
   "execution_count": 3,
   "metadata": {},
   "outputs": [
    {
     "name": "stdout",
     "output_type": "stream",
     "text": [
      "+--------------+------------------------+\n",
      "|Country/Region|Avg_Cases_Per_Population|\n",
      "+--------------+------------------------+\n",
      "|         Qatar|      0.0399215757500000|\n",
      "| French Guiana|      0.0271456485800000|\n",
      "|       Bahrain|      0.0251302390800000|\n",
      "|    San Marino|      0.0205963816370000|\n",
      "|         Chile|      0.0191648102280000|\n",
      "|        Panama|      0.0165270398920000|\n",
      "|        Kuwait|      0.0163784431680000|\n",
      "|          Oman|      0.0157690439640000|\n",
      "|           USA|      0.0151938629610000|\n",
      "|  Vatican City|      0.0149812734080000|\n",
      "+--------------+------------------------+\n",
      "only showing top 10 rows\n",
      "\n"
     ]
    }
   ],
   "source": [
    "from pyspark.sql import SparkSession\n",
    "\n",
    "spark = SparkSession.builder.appName(\"Covid19Analysis\").getOrCreate()\n",
    "\n",
    "file_path = \"file:///E:/microsoft-SQL/covid-kaggle-dataset/worldometer_data.csv\"\n",
    "df = spark.read.csv(file_path, header=True, inferSchema=True)\n",
    "\n",
    "df.createOrReplaceTempView(\"covid_data\")\n",
    "\n",
    "\n",
    "avg_cases_per_population_sql = \"\"\"\n",
    "    SELECT `Country/Region`, AVG(TotalCases * 1.0 / Population) AS Avg_Cases_Per_Population \n",
    "    FROM covid_data \n",
    "    GROUP BY `Country/Region` \n",
    "    ORDER BY Avg_Cases_Per_Population DESC\n",
    "\"\"\"\n",
    "\n",
    "avg_cases_per_population_df = spark.sql(avg_cases_per_population_sql)\n",
    "\n",
    "avg_cases_per_population_df.show(10)\n",
    "spark.stop()\n"
   ]
  }
 ],
 "metadata": {
  "kernelspec": {
   "display_name": "Python 3",
   "language": "python",
   "name": "python3"
  },
  "language_info": {
   "codemirror_mode": {
    "name": "ipython",
    "version": 3
   },
   "file_extension": ".py",
   "mimetype": "text/x-python",
   "name": "python",
   "nbconvert_exporter": "python",
   "pygments_lexer": "ipython3",
   "version": "3.11.9"
  }
 },
 "nbformat": 4,
 "nbformat_minor": 2
}
