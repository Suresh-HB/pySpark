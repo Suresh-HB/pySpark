{
 "cells": [
  {
   "cell_type": "markdown",
   "metadata": {},
   "source": [
    "@Author: Suresh <br>\n",
    "@Date: 2024-09-04 <br>\n",
    "@Last Modified by: Suresh <br>\n",
    "@Last Modified: 2024-09-04 <br>\n",
    "@Title :  To find out the countries with the highest infection rates <br>"
   ]
  },
  {
   "cell_type": "markdown",
   "metadata": {},
   "source": [
    "                                    countries with the highest infection rates"
   ]
  },
  {
   "cell_type": "code",
   "execution_count": 9,
   "metadata": {},
   "outputs": [
    {
     "name": "stdout",
     "output_type": "stream",
     "text": [
      "root\n",
      " |-- Province/State: string (nullable = true)\n",
      " |-- Country/Region: string (nullable = true)\n",
      " |-- Lat: double (nullable = true)\n",
      " |-- Long: double (nullable = true)\n",
      " |-- Date: date (nullable = true)\n",
      " |-- Confirmed: integer (nullable = true)\n",
      " |-- Deaths: integer (nullable = true)\n",
      " |-- Recovered: integer (nullable = true)\n",
      " |-- Active: integer (nullable = true)\n",
      " |-- WHO Region: string (nullable = true)\n",
      "\n",
      "+--------------+---------------+\n",
      "|Country/Region|Total_Confirmed|\n",
      "+--------------+---------------+\n",
      "|            US|      224345948|\n",
      "|        Brazil|       89524967|\n",
      "|        Russia|       45408411|\n",
      "|         India|       40883464|\n",
      "|         Spain|       27404045|\n",
      "|United Kingdom|       26748587|\n",
      "|         Italy|       26745145|\n",
      "|        France|       21210926|\n",
      "|       Germany|       21059152|\n",
      "|          Iran|       19339267|\n",
      "|          Peru|       19263916|\n",
      "|        Turkey|       17903345|\n",
      "|         Chile|       16935654|\n",
      "|        Mexico|       14946202|\n",
      "|         China|       14132002|\n",
      "|      Pakistan|       12833994|\n",
      "|  Saudi Arabia|       12362961|\n",
      "|  South Africa|       11168743|\n",
      "|        Canada|        9356551|\n",
      "|    Bangladesh|        8754729|\n",
      "+--------------+---------------+\n",
      "only showing top 20 rows\n",
      "\n"
     ]
    }
   ],
   "source": [
    "from pyspark.sql import SparkSession\n",
    "\n",
    "spark = SparkSession.builder.appName(\"Covid19Analysis\").getOrCreate()\n",
    "\n",
    "file_path = r\"file:///E:\\microsoft-SQL\\covid-kaggle-dataset\\covid_19_clean_complete.csv\"\n",
    "df = spark.read.csv(file_path, header=True, inferSchema=True)\n",
    "\n",
    "df = df.withColumnRenamed(\"State/UnionTerritory\", \"State_UnionTerritory\")\n",
    "\n",
    "df.createOrReplaceTempView(\"covid19india\")\n",
    "\n",
    "filtered_df = spark.sql(\"\"\"\n",
    "    SELECT `Country/Region`, SUM(CAST(Confirmed AS INT)) AS Total_Confirmed \n",
    "    FROM covid19india \n",
    "    GROUP BY `Country/Region` \n",
    "    ORDER BY Total_Confirmed DESC\n",
    "\"\"\")\n",
    "\n",
    "df.printSchema()\n",
    "\n",
    "filtered_df.show()\n",
    "spark.stop()\n"
   ]
  }
 ],
 "metadata": {
  "kernelspec": {
   "display_name": "Python 3",
   "language": "python",
   "name": "python3"
  },
  "language_info": {
   "codemirror_mode": {
    "name": "ipython",
    "version": 3
   },
   "file_extension": ".py",
   "mimetype": "text/x-python",
   "name": "python",
   "nbconvert_exporter": "python",
   "pygments_lexer": "ipython3",
   "version": "3.11.9"
  }
 },
 "nbformat": 4,
 "nbformat_minor": 2
}
