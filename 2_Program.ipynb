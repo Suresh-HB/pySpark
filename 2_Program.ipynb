{
 "cells": [
  {
   "cell_type": "markdown",
   "metadata": {},
   "source": [
    "@Author: Suresh <br>\n",
    "@Date: 2024-09-04 <br>\n",
    "@Last Modified by: Suresh <br>\n",
    "@Last Modified: 2024-09-04 <br>\n",
    "@Title :  To find out the infected population percentage locally and globally <br>"
   ]
  },
  {
   "cell_type": "markdown",
   "metadata": {},
   "source": [
    "                                            INFECTED  POPULATION PERCENTAGE LOCALLY"
   ]
  },
  {
   "cell_type": "code",
   "execution_count": 1,
   "metadata": {},
   "outputs": [
    {
     "name": "stdout",
     "output_type": "stream",
     "text": [
      "root\n",
      " |-- State/UnionTerritory: string (nullable = true)\n",
      " |-- Total_Confirmed: long (nullable = true)\n",
      " |-- Total_Cured: long (nullable = true)\n",
      " |-- locally_Infected: double (nullable = true)\n",
      "\n",
      "+----------------------------------------+---------------+-----------+------------------+\n",
      "|State/UnionTerritory                    |Total_Confirmed|Total_Cured|locally_Infected  |\n",
      "+----------------------------------------+---------------+-----------+------------------+\n",
      "|Nagaland                                |5041742        |4519526    |10.357848537271437|\n",
      "|Karnataka                               |485970693      |441844360  |9.080039935659244 |\n",
      "|Odisha                                  |160130533      |150923455  |5.749732938189865 |\n",
      "|Kerala                                  |458906023      |420174235  |8.440026074793963 |\n",
      "|Ladakh                                  |4054293        |3758960    |7.284451321105806 |\n",
      "|Dadra and Nagar Haveli and Daman and Diu|1938632        |1841750    |4.997441494827285 |\n",
      "|Tamil Nadu                              |431928644      |404095807  |6.443850711600405 |\n",
      "|Telengana                               |69990668       |64666267   |7.607301304796806 |\n",
      "|Chhattisgarh                            |163776262      |151609364  |7.428975268711412 |\n",
      "|Maharashtra***                          |6229596        |6000911    |3.670944311637541 |\n",
      "|Andhra Pradesh                          |392432753      |370426530  |5.607641776016592 |\n",
      "|Lakshadweep                             |915784         |820925     |10.358228577917941|\n",
      "|Madhya Pradesh                          |135625265      |126724997  |6.562396762874528 |\n",
      "|Punjab                                  |99949702       |91458159   |8.495816225645171 |\n",
      "|Manipur                                 |12617943       |11230568   |10.995254931806244|\n",
      "|Daman & Diu                             |2              |0          |100.0             |\n",
      "|Cases being reassigned to states        |345565         |0          |100.0             |\n",
      "|Goa                                     |28240159       |26027201   |7.836209420775575 |\n",
      "|Mizoram                                 |2984732        |2384602    |20.106662842761096|\n",
      "|Bihar****                               |1430909        |1402468    |1.9876176612209377|\n",
      "+----------------------------------------+---------------+-----------+------------------+\n",
      "only showing top 20 rows\n",
      "\n"
     ]
    }
   ],
   "source": [
    "from pyspark.sql import SparkSession\n",
    "from pyspark.sql.functions import col, sum, when\n",
    "\n",
    "spark = SparkSession.builder.appName(\"Covid19IndiaAnalysis\").getOrCreate()\n",
    "\n",
    "\n",
    "file_path_india = r\"file:///E:\\microsoft-SQL\\Covid Problem (1)\\Covid Problem\\covid_19_india.csv\"\n",
    "df = spark.read.csv(file_path_india, header=True, inferSchema=True)\n",
    "\n",
    "\n",
    "\n",
    "df = df.withColumn(\"Confirmed\", col(\"Confirmed\").cast(\"int\")) .withColumn(\"Cured\", col(\"Cured\").cast(\"int\"))\n",
    "\n",
    "\n",
    "result_df = (\n",
    "    df\n",
    "    .groupBy(\"State/UnionTerritory\")\n",
    "    .agg(\n",
    "        sum(\"Confirmed\").alias(\"Total_Confirmed\"),\n",
    "        sum(\"Cured\").alias(\"Total_Cured\")\n",
    "    )\n",
    "    .withColumn(\n",
    "        \"locally_Infected\",\n",
    "        when(col(\"Total_Confirmed\") > 0,\n",
    "             100 - (col(\"Total_Cured\") * 100.0 / col(\"Total_Confirmed\"))\n",
    "        ).otherwise(None)\n",
    "    )\n",
    ")\n",
    "\n",
    "result_df.printSchema()\n",
    "result_df.show(truncate=False)\n"
   ]
  },
  {
   "cell_type": "markdown",
   "metadata": {},
   "source": [
    "                                                INFECTED POPULATION PERCENTAGE GLOBALLY"
   ]
  },
  {
   "cell_type": "code",
   "execution_count": 2,
   "metadata": {},
   "outputs": [
    {
     "name": "stdout",
     "output_type": "stream",
     "text": [
      "root\n",
      " |-- Sno: integer (nullable = true)\n",
      " |-- Date: date (nullable = true)\n",
      " |-- Time: string (nullable = true)\n",
      " |-- State/UnionTerritory: string (nullable = true)\n",
      " |-- ConfirmedIndianNational: string (nullable = true)\n",
      " |-- ConfirmedForeignNational: string (nullable = true)\n",
      " |-- Cured: integer (nullable = true)\n",
      " |-- Deaths: integer (nullable = true)\n",
      " |-- Confirmed: integer (nullable = true)\n",
      "\n",
      "+--------------------+-----------+------------+----------------------------+\n",
      "|State/UnionTerritory|Total_Cases|Total_Active|Globally_Infected_percentage|\n",
      "+--------------------+-----------+------------+----------------------------+\n",
      "|            Nagaland|    5041742|        NULL|                        NULL|\n",
      "|           Karnataka|  485970693|       405.0|        8.333835884214524E-5|\n",
      "|              Odisha|  160130533|        23.0|        1.436328198570350...|\n",
      "|              Kerala|  458906023|      1091.0|        2.377393072480986E-4|\n",
      "|              Ladakh|    4054293|       162.0|         0.00399576448964098|\n",
      "|Dadra and Nagar H...|    1938632|        NULL|                        NULL|\n",
      "|          Tamil Nadu|  431928644|       138.0|        3.194972176932076...|\n",
      "|           Telengana|   69990668|       246.0|        3.514754281242179...|\n",
      "|        Chhattisgarh|  163776262|        25.0|        1.526472743650725...|\n",
      "|      Maharashtra***|    6229596|        NULL|                        NULL|\n",
      "|      Andhra Pradesh|  392432753|        81.0|        2.064047900711284...|\n",
      "|         Lakshadweep|     915784|        NULL|                        NULL|\n",
      "|      Madhya Pradesh|  135625265|       105.0|        7.741920356800777E-5|\n",
      "|              Punjab|   99949702|       231.0|        2.311162468498405...|\n",
      "|             Manipur|   12617943|         5.0|        3.962611021463641E-5|\n",
      "|         Daman & Diu|          2|        NULL|                        NULL|\n",
      "|Cases being reass...|     345565|        NULL|                        NULL|\n",
      "|                 Goa|   28240159|         9.0|        3.186950895000272E-5|\n",
      "|             Mizoram|    2984732|         4.0|        1.340153822855787...|\n",
      "|           Bihar****|    1430909|        NULL|                        NULL|\n",
      "+--------------------+-----------+------------+----------------------------+\n",
      "only showing top 20 rows\n",
      "\n"
     ]
    }
   ],
   "source": [
    "from pyspark.sql import SparkSession\n",
    "from pyspark.sql.functions import col, sum\n",
    "\n",
    "spark = SparkSession.builder.appName(\"Covid19Analysis\").getOrCreate()\n",
    "\n",
    "file_path_india = r\"file:///E:\\microsoft-SQL\\Covid Problem (1)\\Covid Problem\\covid_19_india.csv\"\n",
    "df = spark.read.csv(file_path_india, header=True, inferSchema=True)\n",
    "\n",
    "\n",
    "\n",
    "\n",
    "result_df = df.groupBy(\"State/UnionTerritory\") \\\n",
    "    .agg(\n",
    "        sum(\"Confirmed\").alias(\"Total_Cases\"),\n",
    "        sum(\"ConfirmedIndianNational\").alias(\"Total_Active\")\n",
    "    ) \\\n",
    "    .withColumn(\n",
    "        \"Globally_Infected_percentage\",\n",
    "        (col(\"Total_Active\") * 100.0) / col(\"Total_Cases\")\n",
    "    )\n",
    "\n",
    "\n",
    "\n",
    "df.printSchema()\n",
    "result_df.show()\n"
   ]
  }
 ],
 "metadata": {
  "kernelspec": {
   "display_name": "Python 3",
   "language": "python",
   "name": "python3"
  },
  "language_info": {
   "codemirror_mode": {
    "name": "ipython",
    "version": 3
   },
   "file_extension": ".py",
   "mimetype": "text/x-python",
   "name": "python",
   "nbconvert_exporter": "python",
   "pygments_lexer": "ipython3",
   "version": "3.11.9"
  }
 },
 "nbformat": 4,
 "nbformat_minor": 2
}
