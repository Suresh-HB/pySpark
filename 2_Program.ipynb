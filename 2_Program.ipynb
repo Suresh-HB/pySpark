{
 "cells": [
  {
   "cell_type": "markdown",
   "metadata": {},
   "source": [
    "@Author: Suresh <br>\n",
    "@Date: 2024-09-04 <br>\n",
    "@Last Modified by: Suresh <br>\n",
    "@Last Modified: 2024-09-04 <br>\n",
    "@Title :  To find out the infected population percentage locally <br>"
   ]
  },
  {
   "cell_type": "markdown",
   "metadata": {},
   "source": [
    "                                            INFECTED  POPULATION PERCENTAGE LOCALLY"
   ]
  },
  {
   "cell_type": "code",
   "execution_count": 5,
   "metadata": {},
   "outputs": [
    {
     "name": "stdout",
     "output_type": "stream",
     "text": [
      "+--------------------+---------------+-----------+-----------------+\n",
      "|State_UnionTerritory|Total_Confirmed|Total_Cured| locally_Infected|\n",
      "+--------------------+---------------+-----------+-----------------+\n",
      "|            Nagaland|        5041742|    4519526| 10.3578485372714|\n",
      "|           Karnataka|      485970693|  441844360|  9.0800399356593|\n",
      "|              Odisha|      160130533|  150923455|  5.7497329381899|\n",
      "|              Kerala|      458906023|  420174235|  8.4400260747940|\n",
      "|              Ladakh|        4054293|    3758960|  7.2844513211058|\n",
      "|Dadra and Nagar H...|        1938632|    1841750|  4.9974414948273|\n",
      "|          Tamil Nadu|      431928644|  404095807|  6.4438507116004|\n",
      "|           Telengana|       69990668|   64666267|  7.6073013047968|\n",
      "|        Chhattisgarh|      163776262|  151609364|  7.4289752687114|\n",
      "|      Maharashtra***|        6229596|    6000911|  3.6709443116375|\n",
      "|      Andhra Pradesh|      392432753|  370426530|  5.6076417760166|\n",
      "|         Lakshadweep|         915784|     820925| 10.3582285779179|\n",
      "|      Madhya Pradesh|      135625265|  126724997|  6.5623967628745|\n",
      "|              Punjab|       99949702|   91458159|  8.4958162256452|\n",
      "|             Manipur|       12617943|   11230568| 10.9952549318062|\n",
      "|         Daman & Diu|              2|          0|100.0000000000000|\n",
      "|Cases being reass...|         345565|          0|100.0000000000000|\n",
      "|                 Goa|       28240159|   26027201|  7.8362094207756|\n",
      "|             Mizoram|        2984732|    2384602| 20.1066628427611|\n",
      "|           Bihar****|        1430909|    1402468|  1.9876176612209|\n",
      "+--------------------+---------------+-----------+-----------------+\n",
      "only showing top 20 rows\n",
      "\n"
     ]
    }
   ],
   "source": [
    "from pyspark.sql import SparkSession\n",
    "\n",
    "spark = SparkSession.builder.appName(\"Covid19IndiaAnalysis\").getOrCreate()\n",
    "\n",
    "\n",
    "file_path_india = r\"file:///E:\\microsoft-SQL\\Covid Problem (1)\\Covid Problem\\covid_19_india.csv\"\n",
    "df = spark.read.csv(file_path_india, header=True, inferSchema=True)\n",
    "\n",
    "\n",
    "df = df.withColumnRenamed(\"State/UnionTerritory\", \"State_UnionTerritory\")\n",
    "df.createOrReplaceTempView(\"covid19india\")\n",
    "\n",
    "\n",
    "filtered_df = spark.sql(\"\"\"\n",
    "    SELECT State_UnionTerritory,\n",
    "       SUM(CAST(Confirmed AS INT)) AS Total_Confirmed ,\n",
    "       SUM(CAST(Cured AS INT)) AS Total_Cured,\n",
    " (100-(SUM(CAST(Cured AS INT))*100.0)/SUM(CAST(Confirmed AS INT))) AS locally_Infected\n",
    "\n",
    "FROM covid19india\n",
    "GROUP BY State_UnionTerritory\n",
    "\"\"\")\n",
    "\n",
    "\n",
    "filtered_df.show()\n",
    "spark.stop()"
   ]
  }
 ],
 "metadata": {
  "kernelspec": {
   "display_name": "Python 3",
   "language": "python",
   "name": "python3"
  },
  "language_info": {
   "codemirror_mode": {
    "name": "ipython",
    "version": 3
   },
   "file_extension": ".py",
   "mimetype": "text/x-python",
   "name": "python",
   "nbconvert_exporter": "python",
   "pygments_lexer": "ipython3",
   "version": "3.11.9"
  }
 },
 "nbformat": 4,
 "nbformat_minor": 2
}
