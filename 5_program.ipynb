{
 "cells": [
  {
   "cell_type": "markdown",
   "metadata": {},
   "source": [
    "@Author: Suresh <br>\n",
    "@Date: 2024-09-04 <br>\n",
    "@Last Modified by: Suresh <br>\n",
    "@Last Modified: 2024-09-04 <br>\n",
    "@Title :   Average number of deaths by day (Continents and Countries) <br>"
   ]
  },
  {
   "cell_type": "markdown",
   "metadata": {},
   "source": [
    "                           Countries with Average number of deaths by day"
   ]
  },
  {
   "cell_type": "code",
   "execution_count": 7,
   "metadata": {},
   "outputs": [
    {
     "name": "stdout",
     "output_type": "stream",
     "text": [
      "root\n",
      " |-- Province/State: string (nullable = true)\n",
      " |-- Country/Region: string (nullable = true)\n",
      " |-- Lat: double (nullable = true)\n",
      " |-- Long: double (nullable = true)\n",
      " |-- Date: date (nullable = true)\n",
      " |-- Confirmed: integer (nullable = true)\n",
      " |-- Deaths: integer (nullable = true)\n",
      " |-- Recovered: integer (nullable = true)\n",
      " |-- Active: integer (nullable = true)\n",
      " |-- WHO Region: string (nullable = true)\n",
      "\n",
      "+--------------+------------------+\n",
      "|Country/Region|  Avg_Daily_Deaths|\n",
      "+--------------+------------------+\n",
      "|            US|58571.335106382976|\n",
      "|United Kingdom|21264.760638297874|\n",
      "|        Brazil|20946.989361702126|\n",
      "|         Italy| 19721.89893617021|\n",
      "|        France|16215.553191489362|\n",
      "|         Spain| 16133.13829787234|\n",
      "|        Mexico| 9192.962765957447|\n",
      "|         India| 5913.994680851064|\n",
      "|          Iran| 5447.531914893617|\n",
      "|       Belgium| 5125.952127659574|\n",
      "|       Germany| 4634.691489361702|\n",
      "|        Canada| 3721.095744680851|\n",
      "|         China|3576.6648936170213|\n",
      "|          Peru| 3468.686170212766|\n",
      "|   Netherlands|  3310.18085106383|\n",
      "|        Russia| 3294.601063829787|\n",
      "|        Turkey| 2479.021276595745|\n",
      "|        Sweden|2387.8351063829787|\n",
      "|       Ecuador| 1843.712765957447|\n",
      "|         Chile|1715.3191489361702|\n",
      "+--------------+------------------+\n",
      "only showing top 20 rows\n",
      "\n"
     ]
    }
   ],
   "source": [
    "from pyspark.sql import SparkSession\n",
    "from pyspark.sql.functions import col, sum, avg\n",
    "import os\n",
    "\n",
    "spark = SparkSession.builder.appName(\"Covid19Analysis\").getOrCreate()\n",
    "\n",
    "file_path = r\"file:///E:/microsoft-SQL/covid-kaggle-dataset/covid_19_clean_complete.csv\"\n",
    "\n",
    "\n",
    "df = spark.read.csv(file_path, header=True, inferSchema=True)\n",
    "df.printSchema()\n",
    "\n",
    "daily_deaths_df = (df.groupBy(\"Country/Region\", \"Date\")\n",
    "                   .agg(sum(\"Deaths\").alias(\"Daily_Deaths\")))\n",
    "\n",
    "avg_daily_deaths_df = (daily_deaths_df.groupBy(\"Country/Region\")\n",
    "                       .agg(avg(\"Daily_Deaths\").alias(\"Avg_Daily_Deaths\"))\n",
    "                       .orderBy(col(\"Avg_Daily_Deaths\").desc()))\n",
    "\n",
    "avg_daily_deaths_df.show()\n",
    "\n",
    "spark.stop()\n"
   ]
  },
  {
   "cell_type": "markdown",
   "metadata": {},
   "source": [
    "                            Continents  with Average number of deaths by day\n"
   ]
  },
  {
   "cell_type": "code",
   "execution_count": 10,
   "metadata": {},
   "outputs": [
    {
     "name": "stdout",
     "output_type": "stream",
     "text": [
      "root\n",
      " |-- Province/State: string (nullable = true)\n",
      " |-- Country/Region: string (nullable = true)\n",
      " |-- Lat: double (nullable = true)\n",
      " |-- Long: double (nullable = true)\n",
      " |-- Date: date (nullable = true)\n",
      " |-- Confirmed: integer (nullable = true)\n",
      " |-- Deaths: integer (nullable = true)\n",
      " |-- Recovered: integer (nullable = true)\n",
      " |-- Active: integer (nullable = true)\n",
      " |-- WHO Region: string (nullable = true)\n",
      "\n",
      "+--------------------+------------------+\n",
      "|           Continent|  Avg_Daily_Deaths|\n",
      "+--------------------+------------------+\n",
      "|            Americas| 102974.9574468085|\n",
      "|              Europe|102505.53191489361|\n",
      "|Eastern Mediterra...|10234.196808510638|\n",
      "|     South-East Asia| 7756.031914893617|\n",
      "|     Western Pacific| 4959.734042553191|\n",
      "|              Africa| 2340.308510638298|\n",
      "+--------------------+------------------+\n",
      "\n"
     ]
    }
   ],
   "source": [
    "from pyspark.sql import SparkSession\n",
    "from pyspark.sql.functions import col, sum, avg\n",
    "\n",
    "spark = SparkSession.builder.appName(\"Covid19Analysis\").getOrCreate()\n",
    "\n",
    "file_path = \"file:///E:/microsoft-SQL/covid-kaggle-dataset/covid_19_clean_complete.csv\"\n",
    "\n",
    "df = spark.read.csv(file_path, header=True, inferSchema=True)\n",
    "\n",
    "df.printSchema()\n",
    "\n",
    "daily_deaths_by_continent_df = (df.groupBy(\"WHO Region\", \"Date\")\n",
    "                                .agg(sum(\"Deaths\").alias(\"Daily_Deaths\")))\n",
    "\n",
    "avg_daily_deaths_df = (daily_deaths_by_continent_df.groupBy(\"WHO Region\")\n",
    "                       .agg(avg(\"Daily_Deaths\").alias(\"Avg_Daily_Deaths\"))\n",
    "                       .withColumnRenamed(\"WHO Region\", \"Continent\")  # Renaming the column\n",
    "                       .orderBy(col(\"Avg_Daily_Deaths\").desc()))\n",
    "\n",
    "\n",
    "avg_daily_deaths_df.show()\n",
    "spark.stop()\n"
   ]
  },
  {
   "cell_type": "markdown",
   "metadata": {},
   "source": []
  }
 ],
 "metadata": {
  "kernelspec": {
   "display_name": "Python 3",
   "language": "python",
   "name": "python3"
  },
  "language_info": {
   "codemirror_mode": {
    "name": "ipython",
    "version": 3
   },
   "file_extension": ".py",
   "mimetype": "text/x-python",
   "name": "python",
   "nbconvert_exporter": "python",
   "pygments_lexer": "ipython3",
   "version": "3.11.9"
  }
 },
 "nbformat": 4,
 "nbformat_minor": 2
}
